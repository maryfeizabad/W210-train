{
  "nbformat": 4,
  "nbformat_minor": 0,
  "metadata": {
    "colab": {
      "provenance": [],
      "include_colab_link": true
    },
    "kernelspec": {
      "name": "python3",
      "display_name": "Python 3"
    },
    "language_info": {
      "name": "python"
    }
  },
  "cells": [
    {
      "cell_type": "markdown",
      "metadata": {
        "id": "view-in-github",
        "colab_type": "text"
      },
      "source": [
        "<a href=\"https://colab.research.google.com/github/maryfeizabad/W210-train/blob/main/test_sum.ipynb\" target=\"_parent\"><img src=\"https://colab.research.google.com/assets/colab-badge.svg\" alt=\"Open In Colab\"/></a>"
      ]
    },
    {
      "cell_type": "code",
      "execution_count": null,
      "metadata": {
        "id": "7BDlyiQGRAB_"
      },
      "outputs": [],
      "source": [
        "import torch\n",
        "import torch.nn as nn"
      ]
    },
    {
      "cell_type": "code",
      "source": [
        "from google.colab import drive\n",
        "drive.mount('/content/drive')"
      ],
      "metadata": {
        "colab": {
          "base_uri": "https://localhost:8080/"
        },
        "id": "OpN3rOopRFXk",
        "outputId": "cfbea014-3e51-43e7-e8e8-177975c6c58a"
      },
      "execution_count": null,
      "outputs": [
        {
          "output_type": "stream",
          "name": "stdout",
          "text": [
            "Drive already mounted at /content/drive; to attempt to forcibly remount, call drive.mount(\"/content/drive\", force_remount=True).\n"
          ]
        }
      ]
    },
    {
      "cell_type": "code",
      "source": [
        "#model_path = \"/content/drive/MyDrive/Colab Notebooks/SUM_SaliencyMamba.ipynb\""
      ],
      "metadata": {
        "id": "9U_rIhX2RskR"
      },
      "execution_count": null,
      "outputs": []
    },
    {
      "cell_type": "code",
      "source": [
        "# Download Vmamba Pretrained Weight\n",
        "!git clone https://github.com/Arhosseini77/SUM\n",
        "%cd SUM\n",
        "!gdown 1zUczEDh09Sr2HtQclYwGBvTh0Gwydr52\n",
        "!mv vssmsmall_dp03_ckpt_epoch_238.pth ./net/pre_trained_weights/"
      ],
      "metadata": {
        "colab": {
          "base_uri": "https://localhost:8080/"
        },
        "id": "isb6PFoTod9r",
        "outputId": "b3dc226d-7f76-4c82-df80-6f3bdfda9762"
      },
      "execution_count": null,
      "outputs": [
        {
          "output_type": "stream",
          "name": "stdout",
          "text": [
            "Cloning into 'SUM'...\n",
            "remote: Enumerating objects: 71, done.\u001b[K\n",
            "remote: Counting objects: 100% (71/71), done.\u001b[K\n",
            "remote: Compressing objects: 100% (62/62), done.\u001b[K\n",
            "remote: Total 71 (delta 28), reused 35 (delta 6), pack-reused 0 (from 0)\u001b[K\n",
            "Receiving objects: 100% (71/71), 8.36 MiB | 8.46 MiB/s, done.\n",
            "Resolving deltas: 100% (28/28), done.\n",
            "/content/SUM\n",
            "Downloading...\n",
            "From (original): https://drive.google.com/uc?id=1zUczEDh09Sr2HtQclYwGBvTh0Gwydr52\n",
            "From (redirected): https://drive.google.com/uc?id=1zUczEDh09Sr2HtQclYwGBvTh0Gwydr52&confirm=t&uuid=25ad961f-9953-43e9-a075-8e3745e71597\n",
            "To: /content/SUM/vssmsmall_dp03_ckpt_epoch_238.pth\n",
            "100% 178M/178M [00:04<00:00, 40.6MB/s]\n"
          ]
        }
      ]
    },
    {
      "cell_type": "code",
      "source": [
        "#new image\n",
        "!python inference.py --img_path ./content/drive/image.jpg --condition 1 --output_path output_results --heat_map_type HOT"
      ],
      "metadata": {
        "colab": {
          "base_uri": "https://localhost:8080/"
        },
        "id": "mj8AvTfTxtTh",
        "outputId": "738b69e9-c08a-4103-9783-f3d065276000"
      },
      "execution_count": null,
      "outputs": [
        {
          "output_type": "stream",
          "name": "stdout",
          "text": [
            "Traceback (most recent call last):\n",
            "  File \"/content/SUM/SUM/inference.py\", line 11, in <module>\n",
            "    from net.models.SUM import SUM\n",
            "  File \"/content/SUM/SUM/net/models/SUM.py\", line 1, in <module>\n",
            "    from .vmamba import VSSM\n",
            "  File \"/content/SUM/SUM/net/models/vmamba.py\", line 10, in <module>\n",
            "    from timm.models.layers import DropPath, trunc_normal_\n",
            "ModuleNotFoundError: No module named 'timm'\n"
          ]
        }
      ]
    },
    {
      "cell_type": "code",
      "source": [
        "#try new image\n",
        "!python inference.py --img_path input_image.jpg --condition 2 --output_path output_results --heat_map_type Overlay"
      ],
      "metadata": {
        "id": "EX5PSipKxtWM"
      },
      "execution_count": null,
      "outputs": []
    },
    {
      "cell_type": "code",
      "source": [
        "import matplotlib.pyplot as plt\n",
        "from PIL import Image\n",
        "\n",
        "# Paths to your image and saliency map\n",
        "image_path = 'assets/input.jpg'\n",
        "saliency_map_path = 'output_results/input_saliencymap.png'\n",
        "\n",
        "# Load the image and the saliency map\n",
        "image = Image.open(image_path)\n",
        "saliency_map = Image.open(saliency_map_path)\n",
        "\n",
        "# Create a figure to display the images\n",
        "fig, axes = plt.subplots(1, 2, figsize=(10, 5))  # Adjust the figsize as needed\n",
        "\n",
        "# Display the original image\n",
        "axes[0].imshow(image)\n",
        "axes[0].axis('off')  # Turn off axis\n",
        "axes[0].set_title('Original Image')\n",
        "\n",
        "# Display the saliency map\n",
        "axes[1].imshow(saliency_map, cmap='hot')\n",
        "axes[1].axis('off')\n",
        "axes[1].set_title('Saliency Map')\n",
        "\n",
        "# Show the plot\n",
        "plt.tight_layout()\n",
        "plt.show()\n"
      ],
      "metadata": {
        "id": "_bWpuQzzxtYh"
      },
      "execution_count": null,
      "outputs": []
    },
    {
      "cell_type": "code",
      "source": [],
      "metadata": {
        "id": "kOeaM1t-xtbD"
      },
      "execution_count": null,
      "outputs": []
    },
    {
      "cell_type": "code",
      "source": [],
      "metadata": {
        "id": "pm-hS-LOxtdK"
      },
      "execution_count": null,
      "outputs": []
    },
    {
      "cell_type": "code",
      "source": [],
      "metadata": {
        "id": "B_45zbDnxtfk"
      },
      "execution_count": null,
      "outputs": []
    },
    {
      "cell_type": "code",
      "source": [
        "model_path = './net/pre_trained_weights/vssmsmall_dp03_ckpt_epoch_238.pth'"
      ],
      "metadata": {
        "id": "Qc15Fil9pi6G"
      },
      "execution_count": null,
      "outputs": []
    },
    {
      "cell_type": "code",
      "source": [
        "model = torch.load(model_path, weights_only=False)\n"
      ],
      "metadata": {
        "id": "EiLlhfp7SN9z"
      },
      "execution_count": null,
      "outputs": []
    },
    {
      "cell_type": "code",
      "source": [
        "from PIL import Image\n",
        "import numpy as np\n",
        "\n",
        "def preprocess_image(image_path, target_size=(256,256)):\n",
        "  image = Image.open(image_path).convert('RGB')\n",
        "\n",
        "  image = image.resize(target_size)\n",
        "  image = np.array(image) / 255.0\n",
        "  image = np.transpose(image, (2, 0, 1))\n",
        "  #image = torch.from_numpy(image).float()\n",
        "  image = np.expand_dims(image, axis=0)\n",
        "  image = torch.from_numpy(image).float()\n",
        "\n",
        "  return image"
      ],
      "metadata": {
        "id": "D2mODXwiSebM"
      },
      "execution_count": null,
      "outputs": []
    },
    {
      "cell_type": "code",
      "source": [
        "image_path = '/content/drive/MyDrive/image.jpg'\n",
        "input_image = preprocess_image(image_path)\n",
        "\n",
        "with torch.no_grad():\n",
        "  saliency_map = model(input_image)\n",
        "\n",
        "  saliency_map_np = saliency_map.squeeze().numpy()"
      ],
      "metadata": {
        "colab": {
          "base_uri": "https://localhost:8080/",
          "height": 201
        },
        "id": "PqBTKJXGtO9s",
        "outputId": "cc5fd002-541f-4a22-e0af-824ef9f884a1"
      },
      "execution_count": null,
      "outputs": [
        {
          "output_type": "error",
          "ename": "TypeError",
          "evalue": "'dict' object is not callable",
          "traceback": [
            "\u001b[0;31m---------------------------------------------------------------------------\u001b[0m",
            "\u001b[0;31mTypeError\u001b[0m                                 Traceback (most recent call last)",
            "\u001b[0;32m<ipython-input-27-a1a2aafc3d05>\u001b[0m in \u001b[0;36m<cell line: 4>\u001b[0;34m()\u001b[0m\n\u001b[1;32m      3\u001b[0m \u001b[0;34m\u001b[0m\u001b[0m\n\u001b[1;32m      4\u001b[0m \u001b[0;32mwith\u001b[0m \u001b[0mtorch\u001b[0m\u001b[0;34m.\u001b[0m\u001b[0mno_grad\u001b[0m\u001b[0;34m(\u001b[0m\u001b[0;34m)\u001b[0m\u001b[0;34m:\u001b[0m\u001b[0;34m\u001b[0m\u001b[0;34m\u001b[0m\u001b[0m\n\u001b[0;32m----> 5\u001b[0;31m   \u001b[0msaliency_map\u001b[0m \u001b[0;34m=\u001b[0m \u001b[0mmodel\u001b[0m\u001b[0;34m(\u001b[0m\u001b[0minput_image\u001b[0m\u001b[0;34m)\u001b[0m\u001b[0;34m\u001b[0m\u001b[0;34m\u001b[0m\u001b[0m\n\u001b[0m\u001b[1;32m      6\u001b[0m \u001b[0;34m\u001b[0m\u001b[0m\n\u001b[1;32m      7\u001b[0m   \u001b[0msaliency_map_np\u001b[0m \u001b[0;34m=\u001b[0m \u001b[0msaliency_map\u001b[0m\u001b[0;34m.\u001b[0m\u001b[0msqueeze\u001b[0m\u001b[0;34m(\u001b[0m\u001b[0;34m)\u001b[0m\u001b[0;34m.\u001b[0m\u001b[0mnumpy\u001b[0m\u001b[0;34m(\u001b[0m\u001b[0;34m)\u001b[0m\u001b[0;34m\u001b[0m\u001b[0;34m\u001b[0m\u001b[0m\n",
            "\u001b[0;31mTypeError\u001b[0m: 'dict' object is not callable"
          ]
        }
      ]
    },
    {
      "cell_type": "code",
      "source": [
        "import matplotlib.pyplot as plt\n",
        "plt.imshow(saliency_map_np, cmap='hot')\n",
        "plt.colorbar()\n",
        "plt.title('Saliency Map')\n",
        "plt.show()"
      ],
      "metadata": {
        "colab": {
          "base_uri": "https://localhost:8080/",
          "height": 201
        },
        "id": "SHsMp_8ivK_F",
        "outputId": "2b393c66-8f5b-48e1-90b1-f720488560fb"
      },
      "execution_count": null,
      "outputs": [
        {
          "output_type": "error",
          "ename": "NameError",
          "evalue": "name 'saliency_map_np' is not defined",
          "traceback": [
            "\u001b[0;31m---------------------------------------------------------------------------\u001b[0m",
            "\u001b[0;31mNameError\u001b[0m                                 Traceback (most recent call last)",
            "\u001b[0;32m<ipython-input-28-89528051f5b0>\u001b[0m in \u001b[0;36m<cell line: 2>\u001b[0;34m()\u001b[0m\n\u001b[1;32m      1\u001b[0m \u001b[0;32mimport\u001b[0m \u001b[0mmatplotlib\u001b[0m\u001b[0;34m.\u001b[0m\u001b[0mpyplot\u001b[0m \u001b[0;32mas\u001b[0m \u001b[0mplt\u001b[0m\u001b[0;34m\u001b[0m\u001b[0;34m\u001b[0m\u001b[0m\n\u001b[0;32m----> 2\u001b[0;31m \u001b[0mplt\u001b[0m\u001b[0;34m.\u001b[0m\u001b[0mimshow\u001b[0m\u001b[0;34m(\u001b[0m\u001b[0msaliency_map_np\u001b[0m\u001b[0;34m,\u001b[0m \u001b[0mcmap\u001b[0m\u001b[0;34m=\u001b[0m\u001b[0;34m'hot'\u001b[0m\u001b[0;34m)\u001b[0m\u001b[0;34m\u001b[0m\u001b[0;34m\u001b[0m\u001b[0m\n\u001b[0m\u001b[1;32m      3\u001b[0m \u001b[0mplt\u001b[0m\u001b[0;34m.\u001b[0m\u001b[0mcolorbar\u001b[0m\u001b[0;34m(\u001b[0m\u001b[0;34m)\u001b[0m\u001b[0;34m\u001b[0m\u001b[0;34m\u001b[0m\u001b[0m\n\u001b[1;32m      4\u001b[0m \u001b[0mplt\u001b[0m\u001b[0;34m.\u001b[0m\u001b[0mtitle\u001b[0m\u001b[0;34m(\u001b[0m\u001b[0;34m'Saliency Map'\u001b[0m\u001b[0;34m)\u001b[0m\u001b[0;34m\u001b[0m\u001b[0;34m\u001b[0m\u001b[0m\n\u001b[1;32m      5\u001b[0m \u001b[0mplt\u001b[0m\u001b[0;34m.\u001b[0m\u001b[0mshow\u001b[0m\u001b[0;34m(\u001b[0m\u001b[0;34m)\u001b[0m\u001b[0;34m\u001b[0m\u001b[0;34m\u001b[0m\u001b[0m\n",
            "\u001b[0;31mNameError\u001b[0m: name 'saliency_map_np' is not defined"
          ]
        }
      ]
    },
    {
      "cell_type": "code",
      "source": [],
      "metadata": {
        "id": "QUqm1_KRwZfh"
      },
      "execution_count": null,
      "outputs": []
    }
  ]
}